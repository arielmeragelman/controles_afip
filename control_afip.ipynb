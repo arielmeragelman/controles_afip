{
  "nbformat": 4,
  "nbformat_minor": 0,
  "metadata": {
    "colab": {
      "provenance": [],
      "authorship_tag": "ABX9TyOIwczASttu7lfEF7nqwphk",
      "include_colab_link": true
    },
    "kernelspec": {
      "name": "python3",
      "display_name": "Python 3"
    },
    "language_info": {
      "name": "python"
    }
  },
  "cells": [
    {
      "cell_type": "markdown",
      "metadata": {
        "id": "view-in-github",
        "colab_type": "text"
      },
      "source": [
        "<a href=\"https://colab.research.google.com/github/arielmeragelman/controles_afip/blob/main/control_afip.ipynb\" target=\"_parent\"><img src=\"https://colab.research.google.com/assets/colab-badge.svg\" alt=\"Open In Colab\"/></a>"
      ]
    },
    {
      "cell_type": "code",
      "execution_count": null,
      "metadata": {
        "id": "iydbnXU1vULW"
      },
      "outputs": [],
      "source": [
        "# SE DEBE DESCARGAR EL ARCHIVO DE https://www.afip.gob.ar/genericos/cInscripcion/archivos/SINapellidoNombreDenominacion.zip\n",
        "# renombrar el archivo como AFIP_SEPT.csv (en caso de cambiar el nombre se debe modificar el mismo del codigo)\n",
        "# Hacer con excel un archivo csv donde en cada fila de la primer columna se listen los cuits a controlar, luego guardarlos como cuit_proveedores.csv\n",
        "# ambos archivos deben estar en la misma carpeta que el archivo del script a ejecutar\n",
        "\n",
        "import pandas as pd\n",
        "\n",
        "# Abrir archivo descargado desde afip como data series\n",
        "afip = pd.read_csv('AFIP_SEPT.csv')\n",
        "# Abrir archivo csv con la lista de cuits a chequear como data series\n",
        "prov = pd.read_csv('cuit_proveedores.csv')\n",
        "# Convertir los data series en listas\n",
        "lista_afip=afip.values.tolist()\n",
        "# Convertir los data series en listas\n",
        "lista_proveedores=prov.values.tolist()\n",
        "\n",
        "# Limpiar la lista generada para obtener solamente el valor de los cuits y pasarlo como Str\n",
        "lista_cuit_afip=[]\n",
        "for cuit in lista_afip:\n",
        "    lista_cuit_afip.append(str(cuit[0][0:11]))\n",
        "    \n",
        "# Limpiar la lista generada para obtener solamente una lista de cuits y pasarlo como Str\n",
        "proveedores=[]\n",
        "for proveedor in lista_proveedores:\n",
        "    proveedores.append(str(proveedor[0]))   \n",
        "\n",
        "# Validar que proveedores no estan activos en AFIP\n",
        "for cuit_proveedor in proveedores:\n",
        "    if cuit_proveedor not in lista_cuit_afip:\n",
        "        print(cuit_proveedor)\n"
      ]
    }
  ]
}